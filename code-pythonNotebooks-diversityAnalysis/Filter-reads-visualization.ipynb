{
 "cells": [
  {
   "cell_type": "code",
   "execution_count": 2,
   "metadata": {},
   "outputs": [],
   "source": [
    "import pandas as pd\n",
    "import numpy as np\n",
    "import seaborn as sns\n",
    "from matplotlib import pyplot as plt\n",
    "%matplotlib inline"
   ]
  },
  {
   "cell_type": "code",
   "execution_count": 111,
   "metadata": {},
   "outputs": [],
   "source": [
    "metadata_path=\"/panfs/panfs1.ucsd.edu/panscratch/jhc103/microbiome-analysis/metadata/vert_metadata_new_sublime.txt\"\n",
    "output_fig_dir=\"/panfs/panfs1.ucsd.edu/panscratch/jhc103/VertMetaphlan-frmerged/figures/\"\n"
   ]
  },
  {
   "cell_type": "code",
   "execution_count": 28,
   "metadata": {},
   "outputs": [],
   "source": [
    "df_md = pd.read_csv(metadata_path, sep=\"\\t\")"
   ]
  },
  {
   "cell_type": "code",
   "execution_count": 43,
   "metadata": {},
   "outputs": [
    {
     "data": {
      "text/html": [
       "<div>\n",
       "<style scoped>\n",
       "    .dataframe tbody tr th:only-of-type {\n",
       "        vertical-align: middle;\n",
       "    }\n",
       "\n",
       "    .dataframe tbody tr th {\n",
       "        vertical-align: top;\n",
       "    }\n",
       "\n",
       "    .dataframe thead th {\n",
       "        text-align: right;\n",
       "    }\n",
       "</style>\n",
       "<table border=\"1\" class=\"dataframe\">\n",
       "  <thead>\n",
       "    <tr style=\"text-align: right;\">\n",
       "      <th></th>\n",
       "      <th>SampleID</th>\n",
       "      <th>sample_name</th>\n",
       "      <th>studyID</th>\n",
       "      <th>file_filtered_r1r2_combined</th>\n",
       "      <th>reads_per_unfiltered_file</th>\n",
       "      <th>reads_per_file</th>\n",
       "      <th>species_id</th>\n",
       "      <th>host_phylum</th>\n",
       "      <th>host_class</th>\n",
       "      <th>host_family</th>\n",
       "      <th>...</th>\n",
       "      <th>host_modality</th>\n",
       "      <th>host_diet</th>\n",
       "      <th>country</th>\n",
       "      <th>habitat</th>\n",
       "      <th>sample_type</th>\n",
       "      <th>diet_category_12</th>\n",
       "      <th>diet_category_3</th>\n",
       "      <th>captive_wild</th>\n",
       "      <th>host_reads</th>\n",
       "      <th>host_reads (%)</th>\n",
       "    </tr>\n",
       "  </thead>\n",
       "  <tbody>\n",
       "    <tr>\n",
       "      <th>0</th>\n",
       "      <td>Artibeus-intermedius_S_S_Temp_D709-AK1780_filt...</td>\n",
       "      <td>2338.0623.7.I</td>\n",
       "      <td>2338</td>\n",
       "      <td>Artibeus-intermedius_S_S_Temp_D709-AK1780_filt...</td>\n",
       "      <td>10812150</td>\n",
       "      <td>10809968</td>\n",
       "      <td>great_fruit-eating_bat.1</td>\n",
       "      <td>Chordata</td>\n",
       "      <td>Mammalia</td>\n",
       "      <td>Phyllostomidae</td>\n",
       "      <td>...</td>\n",
       "      <td>NaN</td>\n",
       "      <td>NaN</td>\n",
       "      <td>CostaRica</td>\n",
       "      <td>NaN</td>\n",
       "      <td>NaN</td>\n",
       "      <td>frugivore</td>\n",
       "      <td>herbivore</td>\n",
       "      <td>wild</td>\n",
       "      <td>2182</td>\n",
       "      <td>0.000202</td>\n",
       "    </tr>\n",
       "    <tr>\n",
       "      <th>1</th>\n",
       "      <td>Carollia-perspicillata_S_S_Temp_D709-AK1682_fi...</td>\n",
       "      <td>2338.0620.8.I</td>\n",
       "      <td>2338</td>\n",
       "      <td>Carollia-perspicillata_S_S_Temp_D709-AK1682_fi...</td>\n",
       "      <td>28375062</td>\n",
       "      <td>28354050</td>\n",
       "      <td>sebas_short-tailed_bat.1</td>\n",
       "      <td>Chordata</td>\n",
       "      <td>Mammalia</td>\n",
       "      <td>Phyllostomidae</td>\n",
       "      <td>...</td>\n",
       "      <td>NaN</td>\n",
       "      <td>NaN</td>\n",
       "      <td>CostaRica</td>\n",
       "      <td>NaN</td>\n",
       "      <td>NaN</td>\n",
       "      <td>frugivore</td>\n",
       "      <td>herbivore</td>\n",
       "      <td>wild</td>\n",
       "      <td>21012</td>\n",
       "      <td>0.000741</td>\n",
       "    </tr>\n",
       "    <tr>\n",
       "      <th>2</th>\n",
       "      <td>Carollia-perspicillata_S_S_Temp_D712-AK1544_fi...</td>\n",
       "      <td>2338.0623.9.I</td>\n",
       "      <td>2338</td>\n",
       "      <td>Carollia-perspicillata_S_S_Temp_D712-AK1544_fi...</td>\n",
       "      <td>122751186</td>\n",
       "      <td>122713288</td>\n",
       "      <td>sebas_short-tailed_bat.2</td>\n",
       "      <td>Chordata</td>\n",
       "      <td>Mammalia</td>\n",
       "      <td>Phyllostomidae</td>\n",
       "      <td>...</td>\n",
       "      <td>NaN</td>\n",
       "      <td>NaN</td>\n",
       "      <td>CostaRica</td>\n",
       "      <td>NaN</td>\n",
       "      <td>NaN</td>\n",
       "      <td>frugivore</td>\n",
       "      <td>herbivore</td>\n",
       "      <td>wild</td>\n",
       "      <td>37898</td>\n",
       "      <td>0.000309</td>\n",
       "    </tr>\n",
       "    <tr>\n",
       "      <th>3</th>\n",
       "      <td>Carollia-perspicillata_S_S_Temp_D712-AK1546_fi...</td>\n",
       "      <td>2338.0627.22.I2</td>\n",
       "      <td>2338</td>\n",
       "      <td>Carollia-perspicillata_S_S_Temp_D712-AK1546_fi...</td>\n",
       "      <td>8559788</td>\n",
       "      <td>8556874</td>\n",
       "      <td>sebas_short-tailed_bat.3</td>\n",
       "      <td>Chordata</td>\n",
       "      <td>Mammalia</td>\n",
       "      <td>Phyllostomidae</td>\n",
       "      <td>...</td>\n",
       "      <td>NaN</td>\n",
       "      <td>NaN</td>\n",
       "      <td>CostaRica</td>\n",
       "      <td>NaN</td>\n",
       "      <td>NaN</td>\n",
       "      <td>frugivore</td>\n",
       "      <td>herbivore</td>\n",
       "      <td>wild</td>\n",
       "      <td>2914</td>\n",
       "      <td>0.000340</td>\n",
       "    </tr>\n",
       "    <tr>\n",
       "      <th>4</th>\n",
       "      <td>Carollia-perspicillata_S_S_Temp_D709-AK1681_fi...</td>\n",
       "      <td>2338.0701.17.I</td>\n",
       "      <td>2338</td>\n",
       "      <td>Carollia-perspicillata_S_S_Temp_D709-AK1681_fi...</td>\n",
       "      <td>488426</td>\n",
       "      <td>487862</td>\n",
       "      <td>sebas_short-tailed_bat.4</td>\n",
       "      <td>Chordata</td>\n",
       "      <td>Mammalia</td>\n",
       "      <td>Phyllostomidae</td>\n",
       "      <td>...</td>\n",
       "      <td>NaN</td>\n",
       "      <td>NaN</td>\n",
       "      <td>CostaRica</td>\n",
       "      <td>NaN</td>\n",
       "      <td>NaN</td>\n",
       "      <td>frugivore</td>\n",
       "      <td>herbivore</td>\n",
       "      <td>wild</td>\n",
       "      <td>564</td>\n",
       "      <td>0.001155</td>\n",
       "    </tr>\n",
       "  </tbody>\n",
       "</table>\n",
       "<p>5 rows × 28 columns</p>\n",
       "</div>"
      ],
      "text/plain": [
       "                                            SampleID      sample_name  \\\n",
       "0  Artibeus-intermedius_S_S_Temp_D709-AK1780_filt...    2338.0623.7.I   \n",
       "1  Carollia-perspicillata_S_S_Temp_D709-AK1682_fi...    2338.0620.8.I   \n",
       "2  Carollia-perspicillata_S_S_Temp_D712-AK1544_fi...    2338.0623.9.I   \n",
       "3  Carollia-perspicillata_S_S_Temp_D712-AK1546_fi...  2338.0627.22.I2   \n",
       "4  Carollia-perspicillata_S_S_Temp_D709-AK1681_fi...   2338.0701.17.I   \n",
       "\n",
       "   studyID                        file_filtered_r1r2_combined  \\\n",
       "0     2338  Artibeus-intermedius_S_S_Temp_D709-AK1780_filt...   \n",
       "1     2338  Carollia-perspicillata_S_S_Temp_D709-AK1682_fi...   \n",
       "2     2338  Carollia-perspicillata_S_S_Temp_D712-AK1544_fi...   \n",
       "3     2338  Carollia-perspicillata_S_S_Temp_D712-AK1546_fi...   \n",
       "4     2338  Carollia-perspicillata_S_S_Temp_D709-AK1681_fi...   \n",
       "\n",
       "   reads_per_unfiltered_file  reads_per_file                species_id  \\\n",
       "0                   10812150        10809968  great_fruit-eating_bat.1   \n",
       "1                   28375062        28354050  sebas_short-tailed_bat.1   \n",
       "2                  122751186       122713288  sebas_short-tailed_bat.2   \n",
       "3                    8559788         8556874  sebas_short-tailed_bat.3   \n",
       "4                     488426          487862  sebas_short-tailed_bat.4   \n",
       "\n",
       "  host_phylum host_class     host_family  ... host_modality host_diet  \\\n",
       "0    Chordata   Mammalia  Phyllostomidae  ...           NaN       NaN   \n",
       "1    Chordata   Mammalia  Phyllostomidae  ...           NaN       NaN   \n",
       "2    Chordata   Mammalia  Phyllostomidae  ...           NaN       NaN   \n",
       "3    Chordata   Mammalia  Phyllostomidae  ...           NaN       NaN   \n",
       "4    Chordata   Mammalia  Phyllostomidae  ...           NaN       NaN   \n",
       "\n",
       "     country habitat sample_type diet_category_12 diet_category_3  \\\n",
       "0  CostaRica     NaN         NaN        frugivore       herbivore   \n",
       "1  CostaRica     NaN         NaN        frugivore       herbivore   \n",
       "2  CostaRica     NaN         NaN        frugivore       herbivore   \n",
       "3  CostaRica     NaN         NaN        frugivore       herbivore   \n",
       "4  CostaRica     NaN         NaN        frugivore       herbivore   \n",
       "\n",
       "  captive_wild host_reads host_reads (%)  \n",
       "0         wild       2182       0.000202  \n",
       "1         wild      21012       0.000741  \n",
       "2         wild      37898       0.000309  \n",
       "3         wild       2914       0.000340  \n",
       "4         wild        564       0.001155  \n",
       "\n",
       "[5 rows x 28 columns]"
      ]
     },
     "execution_count": 43,
     "metadata": {},
     "output_type": "execute_result"
    }
   ],
   "source": [
    "df_md.head()"
   ]
  },
  {
   "cell_type": "code",
   "execution_count": 50,
   "metadata": {},
   "outputs": [],
   "source": [
    "df_md.set_index('species_id', inplace=True)"
   ]
  },
  {
   "cell_type": "code",
   "execution_count": 51,
   "metadata": {},
   "outputs": [],
   "source": [
    "## Create host_read column\n",
    "df_md[\"host_reads\"] = df_md[\"reads_per_unfiltered_file\"]-df_md[\"reads_per_file\"]"
   ]
  },
  {
   "cell_type": "code",
   "execution_count": 52,
   "metadata": {},
   "outputs": [],
   "source": [
    "## Create host_read column by percentage \n",
    "df_md[\"host_reads (%)\"] = (df_md[\"reads_per_unfiltered_file\"]-df_md[\"reads_per_file\"])/df_md[\"reads_per_unfiltered_file\"]"
   ]
  },
  {
   "cell_type": "code",
   "execution_count": 53,
   "metadata": {},
   "outputs": [],
   "source": [
    "## Visualize top 20 highest host reads \n",
    "host_read_series_top20=(df_md.sort_values('host_reads (%)', ascending=False))[\"host_reads (%)\"].iloc[0:20]"
   ]
  },
  {
   "cell_type": "code",
   "execution_count": 54,
   "metadata": {},
   "outputs": [],
   "source": [
    "host_read_nominal_series_top20=(df_md.sort_values('host_reads', ascending=False))[\"host_reads\"].iloc[0:20]"
   ]
  },
  {
   "cell_type": "code",
   "execution_count": 62,
   "metadata": {},
   "outputs": [
    {
     "name": "stdout",
     "output_type": "stream",
     "text": [
      "species_id\n",
      "common_vampire_bat.4       0.984616\n",
      "european_polecat.1         0.980151\n",
      "common_teal.1              0.978179\n",
      "common_vampire_bat.3       0.976592\n",
      "common_vampire_bat.1       0.976375\n",
      "common_vampire_bat.2       0.974114\n",
      "common_rudd.2              0.971690\n",
      "common_toad.2              0.971646\n",
      "steppe_polecat.2           0.966259\n",
      "harbor_porpoise.1          0.963699\n",
      "common_toad.1              0.954300\n",
      "eurasian_red_squirrel.1    0.950956\n",
      "sea_lamprey.2              0.945993\n",
      "sea_lamprey.3              0.942807\n",
      "sea_lamprey.8              0.941376\n",
      "ring-necked_pheasant.1     0.938349\n",
      "house_mouse.3              0.936286\n",
      "sea_lamprey.9              0.935459\n",
      "ring-necked_pheasant.2     0.934339\n",
      "sea_lamprey.5              0.933907\n",
      "Name: host_reads (%), dtype: float64\n",
      "--------------------\n",
      "species_id\n",
      "sea_lamprey.3               99746602\n",
      "sea_lamprey.5               75939462\n",
      "northern_brook_lamprey.2    75330292\n",
      "sea_lamprey.1               68284106\n",
      "sea_lamprey.8               64082700\n",
      "sea_lamprey.9               60294492\n",
      "american_brook_lamprey.2    57979750\n",
      "house_mouse.3               54044124\n",
      "american_brook_lamprey.1    47049584\n",
      "sea_lamprey.10              46898944\n",
      "sea_lamprey.6               45472330\n",
      "common_teal.1               41347510\n",
      "bank_vole.61                38011286\n",
      "sea_lamprey.2               37844958\n",
      "harbor_porpoise.1           37369242\n",
      "common_toad.1               32854800\n",
      "american_brook_lamprey.3    32262162\n",
      "common_vampire_bat.1        31152624\n",
      "central_bearded_dragon.1    30797498\n",
      "northern_brook_lamprey.3    26892562\n",
      "Name: host_reads, dtype: int64\n"
     ]
    }
   ],
   "source": [
    "print(host_read_series_top20)\n",
    "print(\"--------------------\")\n",
    "print(host_read_nominal_series_top20)"
   ]
  },
  {
   "cell_type": "code",
   "execution_count": 71,
   "metadata": {},
   "outputs": [],
   "source": [
    "## sort metadata based on reads_per_unfiltered_file\n",
    "df_md.sort_values('reads_per_unfiltered_file', ascending=False, inplace=True)"
   ]
  },
  {
   "cell_type": "code",
   "execution_count": 124,
   "metadata": {},
   "outputs": [
    {
     "data": {
      "image/png": "[encoded data removed]",
      "text/plain": [
       "<Figure size 432x288 with 1 Axes>"
      ]
     },
     "metadata": {
      "needs_background": "light"
     },
     "output_type": "display_data"
    }
   ],
   "source": [
    "fig, ax = plt.subplots()\n",
    "\n",
    "plt.plot([],[],color='blue',label='Sample reads')\n",
    "plt.plot([],[],color='orange', label='Host reads')\n",
    "plt.stackplot(df_md.index,df_md['reads_per_file'],df_md['host_reads'],\n",
    "               colors =['blue', 'orange'])\n",
    "plt.legend()\n",
    "\n",
    "plt.xlabel(\"Samples (n=662)\")\n",
    "plt.ylabel(\"Reads\")\n",
    "plt.yscale('log')\n",
    "# p0=sns.barplot(x=df_md[\"sample_name\"], y=df_md['reads_per_file'], data=df_md)\n",
    "# p1=sns.barplot(x=df_md[\"sample_name\"], y=df_md['host_reads'], data=df_md)\n",
    "\n",
    "# plt.savefig(`output_fig_dir+\"alpha_diversity_diet_category_3_group.png\",dpi=900, bbox_inches=\"tight\")\n",
    "# p0.tick_params(bottom = False)\n",
    "ax = plt.gca()\n",
    "ax.axes.xaxis.set_ticks([])\n",
    "ax.axes.xaxis.set_ticklabels([])\n",
    "plt.savefig(output_fig_dir+\"host_filter_result.png\",dpi=900)\n",
    "plt.show()\n"
   ]
  },
  {
   "cell_type": "code",
   "execution_count": 103,
   "metadata": {},
   "outputs": [
    {
     "data": {
      "image/png": "[encoded data removed]",
      "text/plain": [
       "<Figure size 1008x1008 with 1 Axes>"
      ]
     },
     "metadata": {
      "needs_background": "light"
     },
     "output_type": "display_data"
    }
   ],
   "source": [
    "plt.figure(figsize=(14,14))\n",
    "s1 = sns.barplot(x=\"sample_name\", y='reads_per_unfiltered_file', data=df_md)\n",
    "\n",
    "s1= sns.barplot(x=\"sample_name\", y=\"reads_per_file\",data=df_md, color=\"blue\")  "
   ]
  },
  {
   "cell_type": "code",
   "execution_count": 34,
   "metadata": {},
   "outputs": [
    {
     "data": {
      "text/plain": [
       "0       great_fruit-eating_bat.1\n",
       "1       sebas_short-tailed_bat.1\n",
       "2       sebas_short-tailed_bat.2\n",
       "3       sebas_short-tailed_bat.3\n",
       "4       sebas_short-tailed_bat.4\n",
       "5     sowells_short-tailed_bat.1\n",
       "6       american_brook_lamprey.1\n",
       "7       american_brook_lamprey.2\n",
       "8       american_brook_lamprey.3\n",
       "9                   bald_eagle.1\n",
       "10             banded_mongoose.2\n",
       "11           bronzewinged_duck.1\n",
       "12                 brown_hyena.1\n",
       "13                  brown_kiwi.2\n",
       "14                  brown_kiwi.3\n",
       "15                   cassowary.3\n",
       "16                   cassowary.4\n",
       "17                 common_rudd.2\n",
       "18                 common_teal.1\n",
       "19                 common_toad.1\n",
       "Name: species_id, dtype: object"
      ]
     },
     "execution_count": 34,
     "metadata": {},
     "output_type": "execute_result"
    }
   ],
   "source": [
    "df_md[\"species_id\"].iloc[0:20]"
   ]
  },
  {
   "cell_type": "code",
   "execution_count": 67,
   "metadata": {},
   "outputs": [
    {
     "name": "stdout",
     "output_type": "stream",
     "text": [
      "The total % of host reads from dataset is: \n",
      "17.80088127288445%\n"
     ]
    }
   ],
   "source": [
    "print(\"The total % of host reads from dataset is: \")\n",
    "unfiltered_sample=df_md['reads_per_unfiltered_file'].sum()\n",
    "host_reads=df_md['host_reads'].sum()\n",
    "print(str(100*host_reads/unfiltered_sample)+\"%\")"
   ]
  },
  {
   "cell_type": "code",
   "execution_count": 121,
   "metadata": {},
   "outputs": [
    {
     "data": {
      "image/png": "[encoded data removed]",
      "text/plain": [
       "<Figure size 432x288 with 1 Axes>"
      ]
     },
     "metadata": {
      "needs_background": "light"
     },
     "output_type": "display_data"
    }
   ],
   "source": [
    "days = [x for x in range(0, 7)]\n",
    "  \n",
    "# List of Suspected cases\n",
    "Suspected = [12, 18, 35, 50, 72, 90, 100]\n",
    "  \n",
    "# List of Cured Cases\n",
    "Cured = [4, 8, 15, 22, 41, 55, 62]\n",
    "  \n",
    "# List of Number of deaths\n",
    "Deaths = [1, 3, 5, 7, 9, 11, 13]\n",
    "  \n",
    "# Plot x-labels, y-label and data\n",
    "plt.plot([], [], color ='blue', \n",
    "         label ='Suspected')\n",
    "plt.plot([], [], color ='orange',\n",
    "         label ='Cured')\n",
    "plt.plot([], [], color ='brown',\n",
    "         label ='Deaths')\n",
    "  \n",
    "# Implementing stackplot on data\n",
    "plt.stackplot(days, Suspected, Cured, \n",
    "              Deaths, baseline ='zero', \n",
    "              colors =['blue', 'orange', \n",
    "                       'brown'])\n",
    "  \n",
    "plt.legend()\n",
    "  \n",
    "plt.title('No of Cases')\n",
    "plt.xlabel('Day of the week')\n",
    "plt.ylabel('Overall cases')\n",
    "  \n",
    "plt.show()"
   ]
  },
  {
   "cell_type": "code",
   "execution_count": null,
   "metadata": {},
   "outputs": [],
   "source": []
  }
 ],
 "metadata": {
  "kernelspec": {
   "display_name": "jupyter-general",
   "language": "python",
   "name": "jupyter-general"
  },
  "language_info": {
   "codemirror_mode": {
    "name": "ipython",
    "version": 3
   },
   "file_extension": ".py",
   "mimetype": "text/x-python",
   "name": "python",
   "nbconvert_exporter": "python",
   "pygments_lexer": "ipython3",
   "version": "3.6.13"
  }
 },
 "nbformat": 4,
 "nbformat_minor": 2
}
